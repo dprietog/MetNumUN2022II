{
  "nbformat": 4,
  "nbformat_minor": 0,
  "metadata": {
    "colab": {
      "provenance": [],
      "authorship_tag": "ABX9TyPqVsbGGvCgtyu2DL4CN9Jp",
      "include_colab_link": true
    },
    "kernelspec": {
      "name": "python3",
      "display_name": "Python 3"
    },
    "language_info": {
      "name": "python"
    }
  },
  "cells": [
    {
      "cell_type": "markdown",
      "metadata": {
        "id": "view-in-github",
        "colab_type": "text"
      },
      "source": [
        "<a href=\"https://colab.research.google.com/github/dprietog/MetNumUN2022II/blob/main/Lab3/Lab_3_dprietog.ipynb\" target=\"_parent\"><img src=\"https://colab.research.google.com/assets/colab-badge.svg\" alt=\"Open In Colab\"/></a>"
      ]
    },
    {
      "cell_type": "markdown",
      "source": [
        "Publicaciones sobre los certificados realizados en LinkedIn. "
      ],
      "metadata": {
        "id": "iDJeNHkWjlun"
      }
    },
    {
      "cell_type": "markdown",
      "source": [
        "Curso 1: Python 101 for Data Science."
      ],
      "metadata": {
        "id": "jfZ_oKOyjIm2"
      }
    },
    {
      "cell_type": "markdown",
      "source": [
        "https://www.linkedin.com/posts/diego-alejandro-prieto-garcia-3a7063252_python-101-for-data-science-activity-6980336552484700160-DnKB?utm_source=share&utm_medium=member_desktop "
      ],
      "metadata": {
        "id": "u2zs6bmCjWh6"
      }
    },
    {
      "cell_type": "markdown",
      "source": [
        "Curso 2: Data Analysis with Python."
      ],
      "metadata": {
        "id": "Ct1TXK4qffBG"
      }
    },
    {
      "cell_type": "markdown",
      "source": [
        "https://www.linkedin.com/posts/diego-alejandro-prieto-garcia-3a7063252_certificado-del-curso-de-data-analysis-with-activity-6980332205906497537-z7s5?utm_source=share&utm_medium=member_desktop "
      ],
      "metadata": {
        "id": "kaGsxFRafrp9"
      }
    },
    {
      "cell_type": "markdown",
      "source": [
        "Curso 3: Data Visualization with Python"
      ],
      "metadata": {
        "id": "K8iJ5Eagfxn8"
      }
    },
    {
      "cell_type": "markdown",
      "source": [
        "https://www.linkedin.com/posts/diego-alejandro-prieto-garcia-3a7063252_data-visualization-with-python-activity-6980333659211902976-LI65?utm_source=share&utm_medium=member_desktop"
      ],
      "metadata": {
        "id": "URHBysLLgi99"
      }
    }
  ]
}
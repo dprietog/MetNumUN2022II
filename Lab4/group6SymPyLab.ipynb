{
  "nbformat": 4,
  "nbformat_minor": 0,
  "metadata": {
    "colab": {
      "provenance": [],
      "include_colab_link": true
    },
    "kernelspec": {
      "name": "python3",
      "display_name": "Python 3"
    }
  },
  "cells": [
    {
      "cell_type": "markdown",
      "metadata": {
        "id": "view-in-github",
        "colab_type": "text"
      },
      "source": [
        "<a href=\"https://colab.research.google.com/github/dprietog/MetNumUN2022II/blob/main/Lab4/group6SymPyLab.ipynb\" target=\"_parent\"><img src=\"https://colab.research.google.com/assets/colab-badge.svg\" alt=\"Open In Colab\"/></a>"
      ]
    },
    {
      "cell_type": "markdown",
      "metadata": {
        "id": "vtY1shFnMal_"
      },
      "source": [
        "# SymPyLab\n",
        "\n",
        "SymPy’s documentation\n",
        "- https://docs.sympy.org/latest/index.html\n"
      ]
    },
    {
      "cell_type": "markdown",
      "metadata": {
        "id": "2U0fAIf5G4rR"
      },
      "source": [
        "## SymPy’s polynomials \n",
        "- https://docs.sympy.org/latest/modules/polys/basics.html#polynomials \n",
        "\n",
        "$$ P_n(x) =  a_n x^n + a_{n-1} x^{n-1} + a_{n-2} x^{n-2} +\\cdots +  a_1 x  + a_0$$\n",
        "\n",
        "$$P_n(x) = 0 $$\n",
        "\n",
        "$$a_n x^n + a_{n-1} x^{n-1} + a_{n-2} x^{n-2} +\\cdots +  a_1 x  + a_0 = 0$$\n",
        "\n",
        "$$(x-r_1) Q_{n-1}(x) = P_n(x)$$\n",
        "$$(x-r_1) (x - r_2) Q_{n-2}(x) = P_n(x)$$\n",
        "$$ \\vdots $$\n",
        "\n",
        "- (x-1)(x-2)(x-2)(x-3)(x-4)(x-5)(x-6)(x-9) = 12960 - 39672 x + 49356 x^2 - 32858 x^3 + 12859 x^4 - 3038 x^5 + 424 x^6 - 32 x^7 + x^8\n",
        "\n",
        "- (12960 - 39672 x + 49356 x^2 - 32858 x^3 + 12859 x^4 - 3038 x^5 + 424 x^6 - 32 x^7 + x^8) / (x-1) = x^8/(x - 1) - (32 x^7)/(x - 1) + (424 x^6)/(x - 1) - (3038 x^5)/(x - 1) + (12859 x^4)/(x - 1) - (32858 x^3)/(x - 1) + (49356 x^2)/(x - 1) - (39672 x)/(x - 1) + 12960/(x - 1)\n"
      ]
    },
    {
      "cell_type": "markdown",
      "source": [
        "<img src=\"https://github.com/AndresBeta123/MetNumUN2022II/blob/main/Lab4/image/2.jpg?raw=true\" />\n",
        "<img src=\"https://github.com/AndresBeta123/MetNumUN2022II/blob/main/Lab4/image/2.jpg?raw=true\" />\n",
        "\n"
      ],
      "metadata": {
        "id": "Pmd_pwksinSi"
      }
    },
    {
      "cell_type": "code",
      "metadata": {
        "id": "Fw1yPZWLMb5P",
        "colab": {
          "base_uri": "https://localhost:8080/"
        },
        "outputId": "d4a70d63-65c6-4bec-9b39-3f2cdd6f08e6"
      },
      "source": [
        "from sympy import Symbol\n",
        "from sympy import div\n",
        "\n",
        "x = Symbol('x')\n",
        "\n",
        "p =  x**8 - 32*x**7 + 424*x**6 - 3038*x**5 + 12859*x**4 - 32858*x**3 + 49356*x**2- 39672*x  +12960\n",
        "\n",
        "\n",
        "p, r = div(p,  x-1)\n",
        "\n",
        "print(p)\n",
        "print(r)\n",
        "\n",
        "p, r = div(p,  x-2)\n",
        "\n",
        "print(p)\n",
        "print(r)\n",
        "\n",
        "p, r = div(p,  x-3)\n",
        "\n",
        "print(p)\n",
        "print(r)\n",
        "\n",
        "p, r = div(p,  x-4)\n",
        "\n",
        "print(p)\n",
        "print(r)\n",
        "\n",
        "p, r = div(p,  x-5)\n",
        "\n",
        "print(p)\n",
        "print(r)\n",
        "\n",
        "p, r = div(p,  x-6)\n",
        "\n",
        "print(p)\n",
        "print(r)\n",
        "\n",
        "p, r = div(p,  x-9)\n",
        "\n",
        "print(p)\n",
        "print(r)\n",
        "\n"
      ],
      "execution_count": null,
      "outputs": [
        {
          "output_type": "stream",
          "name": "stdout",
          "text": [
            "x**7 - 31*x**6 + 393*x**5 - 2645*x**4 + 10214*x**3 - 22644*x**2 + 26712*x - 12960\n",
            "0\n",
            "x**6 - 29*x**5 + 335*x**4 - 1975*x**3 + 6264*x**2 - 10116*x + 6480\n",
            "0\n",
            "x**5 - 26*x**4 + 257*x**3 - 1204*x**2 + 2652*x - 2160\n",
            "0\n",
            "x**4 - 22*x**3 + 169*x**2 - 528*x + 540\n",
            "0\n",
            "x**3 - 17*x**2 + 84*x - 108\n",
            "0\n",
            "x**2 - 11*x + 18\n",
            "0\n",
            "x - 2\n",
            "0\n"
          ]
        }
      ]
    },
    {
      "cell_type": "code",
      "metadata": {
        "colab": {
          "base_uri": "https://localhost:8080/"
        },
        "id": "gQ-VwywTarYw",
        "outputId": "8d13a6fd-67eb-4ff1-c8ec-c626badbf09f"
      },
      "source": [
        "p = ( x**8 - 32*x**7 + 424*x**6 - 3038*x**5 + 12859*x**4 - 32858*x**3 + 49356*x**2- 39672*x  +12960 )/(x-1)\n",
        "\n",
        "p, r = div(p,  x-6)\n",
        "\n",
        "print(p)\n",
        "print(r)"
      ],
      "execution_count": null,
      "outputs": [
        {
          "output_type": "stream",
          "name": "stdout",
          "text": [
            "x**7/(x - 1) - 26*x**6/(x - 1) + 268*x**5/(x - 1) - 1430*x**4/(x - 1) + 4279*x**3/(x - 1) - 7184*x**2/(x - 1) + 6252*x/(x - 1) - 2160/(x - 1)\n",
            "0\n"
          ]
        }
      ]
    },
    {
      "cell_type": "markdown",
      "metadata": {
        "id": "LrP1xT6VKZrE"
      },
      "source": [
        "## SymPy’s polynomial simple univariate polynomial factorization\n",
        "- https://docs.sympy.org/latest/modules/polys/wester.html#simple-univariate-polynomial-factorization\n",
        "- factor(x\\*\\*8 - 32\\*x\\*\\*7 + 424\\*x\\*\\*6 - 3038\\*x\\*\\*5 + 12859\\*x\\*\\*4 - 32858\\*x\\*\\*3 + 49356\\*x\\*\\*2- 39672\\*x  +12960)"
      ]
    },
    {
      "cell_type": "markdown",
      "metadata": {
        "id": "2NPChCoPLsls"
      },
      "source": [
        "<img src=\"https://github.com/AndresBeta123/MetNumUN2022II/blob/main/Lab4/image/3.jpg?raw=true\" />\n",
        "\n",
        "\n"
      ]
    },
    {
      "cell_type": "code",
      "metadata": {
        "id": "i2vHjXOIKvQu",
        "colab": {
          "base_uri": "https://localhost:8080/",
          "height": 39
        },
        "outputId": "d2a0249b-6056-4c1e-e749-16c04881cb0a"
      },
      "source": [
        "from sympy import Symbol,factor\n",
        "x = Symbol('x')\n",
        "factor(x**8 - 32*x**7 + 424*x**6 - 3038*x**5 + 12859*x**4 - 32858*x**3 + 49356*x**2- 39672*x  +12960)"
      ],
      "execution_count": null,
      "outputs": [
        {
          "output_type": "execute_result",
          "data": {
            "text/plain": [
              "(x - 9)*(x - 6)*(x - 5)*(x - 4)*(x - 3)*(x - 2)**2*(x - 1)"
            ],
            "text/latex": "$\\displaystyle \\left(x - 9\\right) \\left(x - 6\\right) \\left(x - 5\\right) \\left(x - 4\\right) \\left(x - 3\\right) \\left(x - 2\\right)^{2} \\left(x - 1\\right)$"
          },
          "metadata": {},
          "execution_count": 6
        }
      ]
    },
    {
      "cell_type": "markdown",
      "metadata": {
        "id": "xoq8A5ipMdRa"
      },
      "source": [
        "## SymPy’s solvers\n",
        "- https://docs.sympy.org/latest/tutorial/solvers.html\n",
        "- x\\*\\*8 - 32\\*x\\*\\*7 + 424\\*x\\*\\*6 - 3038\\*x\\*\\*5 + 12859\\*x\\*\\*4 - 32858\\*x\\*\\*3 + 49356\\*x\\*\\*2- 39672\\*x  +12960 = 0"
      ]
    },
    {
      "cell_type": "markdown",
      "metadata": {
        "id": "UpEjlqXZMk8i"
      },
      "source": [
        "<img src=\"https://github.com/AndresBeta123/MetNumUN2022II/blob/main/Lab4/image/4.jpg?raw=true\" />\n",
        "\n"
      ]
    },
    {
      "cell_type": "code",
      "metadata": {
        "id": "DLzUsS8YMlNK",
        "colab": {
          "base_uri": "https://localhost:8080/",
          "height": 37
        },
        "outputId": "eabc424d-e2a7-442c-ab17-6425324e929a"
      },
      "source": [
        "from sympy import Symbol, solveset, Eq\n",
        "x = Symbol('x')\n",
        "solveset(Eq(x**8 - 32*x**7 + 424*x**6 - 3038*x**5 + 12859*x**4 - 32858*x**3 + 49356*x**2- 39672*x  +12960,0), x)\n"
      ],
      "execution_count": null,
      "outputs": [
        {
          "output_type": "execute_result",
          "data": {
            "text/plain": [
              "FiniteSet(1, 2, 3, 4, 5, 6, 9)"
            ],
            "text/latex": "$\\displaystyle \\left\\{1, 2, 3, 4, 5, 6, 9\\right\\}$"
          },
          "metadata": {},
          "execution_count": 7
        }
      ]
    },
    {
      "cell_type": "markdown",
      "source": [
        "<img src=\"https://github.com/AndresBeta123/MetNumUN2022II/blob/main/Lab4/image/5.jpg?raw=true\" />\n"
      ],
      "metadata": {
        "id": "pi7rUwG472tc"
      }
    },
    {
      "cell_type": "code",
      "metadata": {
        "colab": {
          "base_uri": "https://localhost:8080/",
          "height": 38
        },
        "id": "ALzYmizCcXvv",
        "outputId": "8efd86cf-91b7-444d-e98e-783c7136a08a"
      },
      "source": [
        "from sympy import Symbol, solveset, Eq, sqrt, pi\n",
        "x = Symbol('x')\n",
        "solveset(Eq(x**2 - (sqrt(x)+pi)*x + (sqrt(x)*pi) , 0), x)\n"
      ],
      "execution_count": null,
      "outputs": [
        {
          "output_type": "execute_result",
          "data": {
            "text/plain": [
              "FiniteSet(0, 1, pi)"
            ],
            "text/latex": "$\\displaystyle \\left\\{0, 1, \\pi\\right\\}$"
          },
          "metadata": {},
          "execution_count": 9
        }
      ]
    },
    {
      "cell_type": "markdown",
      "metadata": {
        "id": "kw48-B_Z_vQc"
      },
      "source": [
        "*   Reference docs for the Poly Domains https://docs.sympy.org/dev/modules/polys/domainsref.html\n",
        "\n",
        "*   Introducing the Domains of the poly module https://docs.sympy.org/dev/modules/polys/domainsintro.html\n",
        "\n",
        "*   Internals of the Polynomial Manipulation Module https://docs.sympy.org/latest/modules/polys/internals.html"
      ]
    },
    {
      "cell_type": "markdown",
      "source": [
        "<img src=\"https://github.com/AndresBeta123/MetNumUN2022II/blob/main/Lab4/image/6.jpg?raw=true\" />"
      ],
      "metadata": {
        "id": "G4hb9Ak_-ujE"
      }
    },
    {
      "cell_type": "code",
      "source": [
        "from sympy import Symbol,factor\n",
        "x = Symbol('x')\n",
        "factor(x**8 - 32*x**7 + 424*x**6 - 3038*x**5 + 12859*x**4 - 32858*x**3 + 49356*x**2- 39672*x  +12960,domain='GF(2)')"
      ],
      "metadata": {
        "colab": {
          "base_uri": "https://localhost:8080/",
          "height": 39
        },
        "id": "EdK4Tfz0-dLW",
        "outputId": "7a354b70-e606-41b7-adc4-36625e36611c"
      },
      "execution_count": null,
      "outputs": [
        {
          "output_type": "execute_result",
          "data": {
            "text/plain": [
              "x**4*(x + 1)**4"
            ],
            "text/latex": "$\\displaystyle x^{4} \\left(x + 1\\right)^{4}$"
          },
          "metadata": {},
          "execution_count": 10
        }
      ]
    },
    {
      "cell_type": "markdown",
      "metadata": {
        "id": "OtsxSwPmV3Vs"
      },
      "source": [
        "## SymPy’s Symbolic and Numercical Complex Evaluations\n",
        "- https://docs.sympy.org/latest/modules/evalf.html](https://)\n",
        "- x = x1 + I*x2,y = y1 + I*y2, z = z1 + I*z2, x*y*2z"
      ]
    },
    {
      "cell_type": "markdown",
      "metadata": {
        "id": "XxWt-AcaZxdp"
      },
      "source": [
        "<img src=\"https://github.com/AndresBeta123/MetNumUN2022II/blob/main/Lab4/image/7.jpg?raw=true\" />"
      ]
    },
    {
      "cell_type": "code",
      "metadata": {
        "id": "ENDQbfLGV31r",
        "colab": {
          "base_uri": "https://localhost:8080/"
        },
        "outputId": "d5cd3283-dc55-464b-eb79-6431a5155a1f"
      },
      "source": [
        "from sympy import symbols, I, N, pi, expand\n",
        "x1, x2, y1, y2, z1, z2 = symbols(\"x1 x2 y1 y2 z1 z2\", real=True)  \n",
        "x = x1 + I*x2\n",
        "y = y1 + I*y2\n",
        "z = z1 + I*z2\n",
        "\n",
        "print(x*y*(2*z))\n",
        "print(expand(x*y*(2*z)))\n",
        "print(expand((x*y)*(2*z)))\n",
        "print(expand(x*(y*(2*z))))\n",
        "\n",
        "w=N(1/(pi + I), 20)\n",
        "print('w=',w)"
      ],
      "execution_count": null,
      "outputs": [
        {
          "output_type": "stream",
          "name": "stdout",
          "text": [
            "(x1 + I*x2)*(y1 + I*y2)*(z1 + I*z2)\n",
            "x1*y1*z1 + I*x1*y1*z2 + I*x1*y2*z1 - x1*y2*z2 + I*x2*y1*z1 - x2*y1*z2 - x2*y2*z1 - I*x2*y2*z2\n",
            "x1*y1*z1 + I*x1*y1*z2 + I*x1*y2*z1 - x1*y2*z2 + I*x2*y1*z1 - x2*y1*z2 - x2*y2*z1 - I*x2*y2*z2\n",
            "x1*y1*z1 + I*x1*y1*z2 + I*x1*y2*z1 - x1*y2*z2 + I*x2*y1*z1 - x2*y1*z2 - x2*y2*z1 - I*x2*y2*z2\n",
            "w= 0.28902548222223624241 - 0.091999668350375232456*I\n"
          ]
        }
      ]
    },
    {
      "cell_type": "markdown",
      "metadata": {
        "id": "eaqIgmnkPNVT"
      },
      "source": [
        "## Wolfram alpha answers quastion in natural languaje\n",
        "-  the average height in the world\n",
        "\n",
        "<img src=\"https://github.com/AndresBeta123/MetNumUN2022II/blob/main/Lab4/image/8.jpg?raw=true\" />"
      ]
    },
    {
      "cell_type": "markdown",
      "source": [
        "## SymPy’s integrate\n",
        "<img src=\"https://github.com/AndresBeta123/MetNumUN2022II/blob/main/Lab4/image/9.jpg?raw=true\" />\n",
        "\n"
      ],
      "metadata": {
        "id": "FIbSSOvEC8R0"
      }
    },
    {
      "cell_type": "code",
      "source": [
        "from sympy import Symbol, integrate, sin ,exp\n",
        "x = Symbol('x')\n",
        "y = Symbol('y');\n",
        "integrate(exp(x), x)"
      ],
      "metadata": {
        "colab": {
          "base_uri": "https://localhost:8080/",
          "height": 39
        },
        "id": "p5wwxfa7BtzU",
        "outputId": "8eec707e-d827-464d-b880-09612ba7c4cf"
      },
      "execution_count": null,
      "outputs": [
        {
          "output_type": "execute_result",
          "data": {
            "text/plain": [
              "exp(x)"
            ],
            "text/latex": "$\\displaystyle e^{x}$"
          },
          "metadata": {},
          "execution_count": 15
        }
      ]
    },
    {
      "cell_type": "markdown",
      "source": [
        "<img src=\"https://github.com/AndresBeta123/MetNumUN2022II/blob/main/Lab4/image/10.jpg?raw=true\" />"
      ],
      "metadata": {
        "id": "JkW8LPxbD2Eq"
      }
    },
    {
      "cell_type": "code",
      "source": [
        "from sympy import Symbol, integrate, sin,exp\n",
        "x = Symbol('x')\n",
        "integrate(exp(x), (x,0,8))\n"
      ],
      "metadata": {
        "colab": {
          "base_uri": "https://localhost:8080/",
          "height": 39
        },
        "id": "EoipdE0UD7Aa",
        "outputId": "41a7830d-b576-444f-b5e2-d81d3ceec43a"
      },
      "execution_count": null,
      "outputs": [
        {
          "output_type": "execute_result",
          "data": {
            "text/plain": [
              "-1 + exp(8)"
            ],
            "text/latex": "$\\displaystyle -1 + e^{8}$"
          },
          "metadata": {},
          "execution_count": 16
        }
      ]
    },
    {
      "cell_type": "code",
      "source": [
        "from sympy import Symbol, integrate, sin, N\n",
        "x = Symbol('x')\n",
        "N(integrate(exp(x), (x,0,8)))\n"
      ],
      "metadata": {
        "colab": {
          "base_uri": "https://localhost:8080/",
          "height": 37
        },
        "id": "rFRmuWfnEPWb",
        "outputId": "7412a02e-1a68-4f85-b49b-36ad7110f252"
      },
      "execution_count": null,
      "outputs": [
        {
          "output_type": "execute_result",
          "data": {
            "text/plain": [
              "2979.95798704173"
            ],
            "text/latex": "$\\displaystyle 2979.95798704173$"
          },
          "metadata": {},
          "execution_count": 17
        }
      ]
    }
  ]
}